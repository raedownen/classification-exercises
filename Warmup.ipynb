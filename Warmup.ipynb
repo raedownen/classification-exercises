{
 "cells": [
  {
   "cell_type": "raw",
   "id": "dd16da09",
   "metadata": {},
   "source": [
    "10/19/22 Warmup:\n",
    "Use the world database for the question below.\n",
    "What languages are spoken in Santa Monica?"
   ]
  },
  {
   "cell_type": "raw",
   "id": "15b15d50",
   "metadata": {},
   "source": [
    "10/21/22 Warmup:\n",
    "A ball is dropped and bounces. At each rebound, the ball reaches half the height of the previous rebound.\n",
    "How high must the ball be dropped so it reaches exactly the height h after the sixth rebound?\n",
    "Write a .py script that accepts an integer from the user that represents the height of the ball after the sixth rebound.\n",
    "Your .py script should print out the height that the ball must be drop at to reach the given height at the sixth rebound."
   ]
  },
  {
   "cell_type": "code",
   "execution_count": null,
   "id": "0dd1548f",
   "metadata": {},
   "outputs": [],
   "source": [
    "# ok, lets say that the initial bounce was 10 feet\n",
    "1 bounce = 10\n",
    "2 bounce = 10/2 = 5\n",
    "3 bounce = 5/2 = 2.5\n",
    "4 bounce = 2.5/2 = 1.25\n",
    "5 bounce = 1.25/2 =.625\n",
    "6 bounce = .625/2 = .3125\n",
    "\n",
    "starting\n",
    "\n",
    "def bounces(h):\n",
    "    height = int(input(\"What heighth of the intitial bounce? \")\n",
    "                 print(f'The ball started at )\n",
    "    \n",
    "                    for every bounce in bounces:\n",
    "        h/2\n",
    "        repeat 6 times"
   ]
  },
  {
   "cell_type": "code",
   "execution_count": 3,
   "id": "ab7de77f",
   "metadata": {},
   "outputs": [
    {
     "data": {
      "text/plain": [
       "0.3125"
      ]
     },
     "execution_count": 3,
     "metadata": {},
     "output_type": "execute_result"
    }
   ],
   "source": [
    ".625/2"
   ]
  },
  {
   "cell_type": "markdown",
   "id": "659c4eb3",
   "metadata": {},
   "source": [
    "Warmup: 10/20/22 Using the world database: How many different countries are in each region?"
   ]
  },
  {
   "cell_type": "code",
   "execution_count": null,
   "id": "0fdf2f6a",
   "metadata": {},
   "outputs": [],
   "source": [
    "USE world;\n",
    "\n",
    "\n",
    "SELECT *\n",
    "FROM country;\n",
    "\n",
    "SELECT c.Region, COUNT(c.Code) num_countries\n",
    "FROM country c\n",
    "GROUP BY c.Region\n",
    "ORDER BY num_countries;\n"
   ]
  },
  {
   "cell_type": "code",
   "execution_count": null,
   "id": "a86b953e",
   "metadata": {},
   "outputs": [],
   "source": []
  }
 ],
 "metadata": {
  "kernelspec": {
   "display_name": "Python 3 (ipykernel)",
   "language": "python",
   "name": "python3"
  },
  "language_info": {
   "codemirror_mode": {
    "name": "ipython",
    "version": 3
   },
   "file_extension": ".py",
   "mimetype": "text/x-python",
   "name": "python",
   "nbconvert_exporter": "python",
   "pygments_lexer": "ipython3",
   "version": "3.9.12"
  }
 },
 "nbformat": 4,
 "nbformat_minor": 5
}
