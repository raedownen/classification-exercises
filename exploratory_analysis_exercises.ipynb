{
 "cells": [
  {
   "cell_type": "code",
   "execution_count": 1,
   "id": "0755e32f",
   "metadata": {},
   "outputs": [],
   "source": [
    "import pandas as pd\n",
    "import numpy as np\n",
    "import matplotlib.pyplot as plt\n",
    "import seaborn as sns\n",
    "import scipy.stats as stats\n",
    "from sklearn.model_selection import train_test_split\n",
    "import acquire\n",
    "import prepare"
   ]
  },
  {
   "cell_type": "markdown",
   "id": "4d7992a9",
   "metadata": {},
   "source": [
    "Exercises\n",
    "Part 1\n",
    "Continue in your classification_exercises.ipynb notebook. As always, add, commit, and push your changes.\n",
    "Section 1 - iris_db: Using iris data from our mySQL server and the methods used in the lesson above:\n",
    "Acquire, prepare & split your data.\n",
    "\n"
   ]
  },
  {
   "cell_type": "raw",
   "id": "3fb9c18d",
   "metadata": {},
   "source": [
    "Target: Species\n",
    "Null H:  Sepal and petal measurements can not help determine/predict species.\n",
    "Alt H: Sepal and petal measurements can help determine/predict species."
   ]
  },
  {
   "cell_type": "code",
   "execution_count": null,
   "id": "b8c3d475",
   "metadata": {},
   "outputs": [],
   "source": [
    "#import data\n",
    "iris = acquire.get_iris_data()\n",
    "#take peek at data\n",
    "iris.head()"
   ]
  },
  {
   "cell_type": "code",
   "execution_count": 3,
   "id": "98ee2e57",
   "metadata": {},
   "outputs": [],
   "source": [
    "train, validate, test = prepare.prep_iris(iris)"
   ]
  },
  {
   "cell_type": "code",
   "execution_count": 4,
   "id": "b6099ddc",
   "metadata": {},
   "outputs": [
    {
     "data": {
      "text/html": [
       "<div>\n",
       "<style scoped>\n",
       "    .dataframe tbody tr th:only-of-type {\n",
       "        vertical-align: middle;\n",
       "    }\n",
       "\n",
       "    .dataframe tbody tr th {\n",
       "        vertical-align: top;\n",
       "    }\n",
       "\n",
       "    .dataframe thead th {\n",
       "        text-align: right;\n",
       "    }\n",
       "</style>\n",
       "<table border=\"1\" class=\"dataframe\">\n",
       "  <thead>\n",
       "    <tr style=\"text-align: right;\">\n",
       "      <th></th>\n",
       "      <th>species</th>\n",
       "      <th>sepal_length</th>\n",
       "      <th>sepal_width</th>\n",
       "      <th>petal_length</th>\n",
       "      <th>petal_width</th>\n",
       "      <th>setosa</th>\n",
       "      <th>versicolor</th>\n",
       "      <th>virginica</th>\n",
       "    </tr>\n",
       "  </thead>\n",
       "  <tbody>\n",
       "    <tr>\n",
       "      <th>79</th>\n",
       "      <td>versicolor</td>\n",
       "      <td>5.7</td>\n",
       "      <td>2.6</td>\n",
       "      <td>3.5</td>\n",
       "      <td>1.0</td>\n",
       "      <td>0</td>\n",
       "      <td>1</td>\n",
       "      <td>0</td>\n",
       "    </tr>\n",
       "    <tr>\n",
       "      <th>36</th>\n",
       "      <td>setosa</td>\n",
       "      <td>5.5</td>\n",
       "      <td>3.5</td>\n",
       "      <td>1.3</td>\n",
       "      <td>0.2</td>\n",
       "      <td>1</td>\n",
       "      <td>0</td>\n",
       "      <td>0</td>\n",
       "    </tr>\n",
       "    <tr>\n",
       "      <th>133</th>\n",
       "      <td>virginica</td>\n",
       "      <td>6.3</td>\n",
       "      <td>2.8</td>\n",
       "      <td>5.1</td>\n",
       "      <td>1.5</td>\n",
       "      <td>0</td>\n",
       "      <td>0</td>\n",
       "      <td>1</td>\n",
       "    </tr>\n",
       "    <tr>\n",
       "      <th>95</th>\n",
       "      <td>versicolor</td>\n",
       "      <td>5.7</td>\n",
       "      <td>3.0</td>\n",
       "      <td>4.2</td>\n",
       "      <td>1.2</td>\n",
       "      <td>0</td>\n",
       "      <td>1</td>\n",
       "      <td>0</td>\n",
       "    </tr>\n",
       "    <tr>\n",
       "      <th>18</th>\n",
       "      <td>setosa</td>\n",
       "      <td>5.7</td>\n",
       "      <td>3.8</td>\n",
       "      <td>1.7</td>\n",
       "      <td>0.3</td>\n",
       "      <td>1</td>\n",
       "      <td>0</td>\n",
       "      <td>0</td>\n",
       "    </tr>\n",
       "  </tbody>\n",
       "</table>\n",
       "</div>"
      ],
      "text/plain": [
       "        species  sepal_length  sepal_width  petal_length  petal_width  setosa  \\\n",
       "79   versicolor           5.7          2.6           3.5          1.0       0   \n",
       "36       setosa           5.5          3.5           1.3          0.2       1   \n",
       "133   virginica           6.3          2.8           5.1          1.5       0   \n",
       "95   versicolor           5.7          3.0           4.2          1.2       0   \n",
       "18       setosa           5.7          3.8           1.7          0.3       1   \n",
       "\n",
       "     versicolor  virginica  \n",
       "79            1          0  \n",
       "36            0          0  \n",
       "133           0          1  \n",
       "95            1          0  \n",
       "18            0          0  "
      ]
     },
     "execution_count": 4,
     "metadata": {},
     "output_type": "execute_result"
    }
   ],
   "source": [
    "train.head()"
   ]
  },
  {
   "cell_type": "code",
   "execution_count": 5,
   "id": "4e430bbc",
   "metadata": {},
   "outputs": [
    {
     "data": {
      "text/plain": [
       "((84, 8), (36, 8), (30, 8))"
      ]
     },
     "execution_count": 5,
     "metadata": {},
     "output_type": "execute_result"
    }
   ],
   "source": [
    "# shape\n",
    "train.shape, validate.shape, test.shape"
   ]
  },
  {
   "cell_type": "code",
   "execution_count": 6,
   "id": "8378102e",
   "metadata": {},
   "outputs": [
    {
     "data": {
      "text/plain": [
       "(79     versicolor\n",
       " 36         setosa\n",
       " 133     virginica\n",
       " 95     versicolor\n",
       " 18         setosa\n",
       " 139     virginica\n",
       " 20         setosa\n",
       " 31         setosa\n",
       " 6          setosa\n",
       " 115     virginica\n",
       " 91     versicolor\n",
       " 145     virginica\n",
       " 125     virginica\n",
       " 82     versicolor\n",
       " 126     virginica\n",
       " 142     virginica\n",
       " 15         setosa\n",
       " 52     versicolor\n",
       " 4          setosa\n",
       " 131     virginica\n",
       " 97     versicolor\n",
       " 70     versicolor\n",
       " 51     versicolor\n",
       " 57     versicolor\n",
       " 41         setosa\n",
       " 53     versicolor\n",
       " 69     versicolor\n",
       " 23         setosa\n",
       " 87     versicolor\n",
       " 3          setosa\n",
       " 67     versicolor\n",
       " 35         setosa\n",
       " 128     virginica\n",
       " 1          setosa\n",
       " 16         setosa\n",
       " 92     versicolor\n",
       " 32         setosa\n",
       " 129     virginica\n",
       " 48         setosa\n",
       " 25         setosa\n",
       " 12         setosa\n",
       " 96     versicolor\n",
       " 46         setosa\n",
       " 103     virginica\n",
       " 89     versicolor\n",
       " 123     virginica\n",
       " 120     virginica\n",
       " 147     virginica\n",
       " 114     virginica\n",
       " 83     versicolor\n",
       " 26         setosa\n",
       " 84     versicolor\n",
       " 8          setosa\n",
       " 24         setosa\n",
       " 107     virginica\n",
       " 118     virginica\n",
       " 112     virginica\n",
       " 141     virginica\n",
       " 14         setosa\n",
       " 43         setosa\n",
       " 40         setosa\n",
       " 109     virginica\n",
       " 74     versicolor\n",
       " 108     virginica\n",
       " 119     virginica\n",
       " 61     versicolor\n",
       " 81     versicolor\n",
       " 111     virginica\n",
       " 58     versicolor\n",
       " 7          setosa\n",
       " 149     virginica\n",
       " 54     versicolor\n",
       " 94     versicolor\n",
       " 100     virginica\n",
       " 137     virginica\n",
       " 132     virginica\n",
       " 5          setosa\n",
       " 88     versicolor\n",
       " 140     virginica\n",
       " 11         setosa\n",
       " 85     versicolor\n",
       " 55     versicolor\n",
       " 44         setosa\n",
       " 73     versicolor\n",
       " Name: species, dtype: object,\n",
       " 134     virginica\n",
       " 62     versicolor\n",
       " 98     versicolor\n",
       " 66     versicolor\n",
       " 121     virginica\n",
       " 59     versicolor\n",
       " 0          setosa\n",
       " 37         setosa\n",
       " 29         setosa\n",
       " 104     virginica\n",
       " 10         setosa\n",
       " 130     virginica\n",
       " 122     virginica\n",
       " 9          setosa\n",
       " 75     versicolor\n",
       " 39         setosa\n",
       " 148     virginica\n",
       " 50     versicolor\n",
       " 60     versicolor\n",
       " 71     versicolor\n",
       " 78     versicolor\n",
       " 102     virginica\n",
       " 106     virginica\n",
       " 64     versicolor\n",
       " 136     virginica\n",
       " 90     versicolor\n",
       " 13         setosa\n",
       " 49         setosa\n",
       " 21         setosa\n",
       " 47         setosa\n",
       " 143     virginica\n",
       " 113     virginica\n",
       " 99     versicolor\n",
       " 27         setosa\n",
       " 30         setosa\n",
       " 124     virginica\n",
       " Name: species, dtype: object,\n",
       " 80     versicolor\n",
       " 45         setosa\n",
       " 144     virginica\n",
       " 110     virginica\n",
       " 38         setosa\n",
       " 2          setosa\n",
       " 135     virginica\n",
       " 72     versicolor\n",
       " 138     virginica\n",
       " 34         setosa\n",
       " 19         setosa\n",
       " 77     versicolor\n",
       " 101     virginica\n",
       " 63     versicolor\n",
       " 117     virginica\n",
       " 76     versicolor\n",
       " 42         setosa\n",
       " 22         setosa\n",
       " 28         setosa\n",
       " 33         setosa\n",
       " 17         setosa\n",
       " 116     virginica\n",
       " 127     virginica\n",
       " 56     versicolor\n",
       " 105     virginica\n",
       " 146     virginica\n",
       " 93     versicolor\n",
       " 86     versicolor\n",
       " 68     versicolor\n",
       " 65     versicolor\n",
       " Name: species, dtype: object)"
      ]
     },
     "execution_count": 6,
     "metadata": {},
     "output_type": "execute_result"
    }
   ],
   "source": [
    "# Stratification means we'll get even proportions of the target variable in each data set\n",
    "train.species, validate.species, test.species"
   ]
  },
  {
   "cell_type": "code",
   "execution_count": 7,
   "id": "4b5da577",
   "metadata": {},
   "outputs": [
    {
     "data": {
      "text/html": [
       "<div>\n",
       "<style scoped>\n",
       "    .dataframe tbody tr th:only-of-type {\n",
       "        vertical-align: middle;\n",
       "    }\n",
       "\n",
       "    .dataframe tbody tr th {\n",
       "        vertical-align: top;\n",
       "    }\n",
       "\n",
       "    .dataframe thead th {\n",
       "        text-align: right;\n",
       "    }\n",
       "</style>\n",
       "<table border=\"1\" class=\"dataframe\">\n",
       "  <thead>\n",
       "    <tr style=\"text-align: right;\">\n",
       "      <th></th>\n",
       "      <th>sepal_length</th>\n",
       "      <th>sepal_width</th>\n",
       "      <th>petal_length</th>\n",
       "      <th>petal_width</th>\n",
       "      <th>setosa</th>\n",
       "      <th>versicolor</th>\n",
       "      <th>virginica</th>\n",
       "    </tr>\n",
       "  </thead>\n",
       "  <tbody>\n",
       "    <tr>\n",
       "      <th>count</th>\n",
       "      <td>84.000000</td>\n",
       "      <td>84.000000</td>\n",
       "      <td>84.000000</td>\n",
       "      <td>84.000000</td>\n",
       "      <td>84.000000</td>\n",
       "      <td>84.000000</td>\n",
       "      <td>84.000000</td>\n",
       "    </tr>\n",
       "    <tr>\n",
       "      <th>mean</th>\n",
       "      <td>5.870238</td>\n",
       "      <td>3.075000</td>\n",
       "      <td>3.771429</td>\n",
       "      <td>1.203571</td>\n",
       "      <td>0.333333</td>\n",
       "      <td>0.333333</td>\n",
       "      <td>0.333333</td>\n",
       "    </tr>\n",
       "    <tr>\n",
       "      <th>std</th>\n",
       "      <td>0.769099</td>\n",
       "      <td>0.448256</td>\n",
       "      <td>1.734940</td>\n",
       "      <td>0.752577</td>\n",
       "      <td>0.474236</td>\n",
       "      <td>0.474236</td>\n",
       "      <td>0.474236</td>\n",
       "    </tr>\n",
       "    <tr>\n",
       "      <th>min</th>\n",
       "      <td>4.400000</td>\n",
       "      <td>2.200000</td>\n",
       "      <td>1.200000</td>\n",
       "      <td>0.100000</td>\n",
       "      <td>0.000000</td>\n",
       "      <td>0.000000</td>\n",
       "      <td>0.000000</td>\n",
       "    </tr>\n",
       "    <tr>\n",
       "      <th>25%</th>\n",
       "      <td>5.375000</td>\n",
       "      <td>2.800000</td>\n",
       "      <td>1.600000</td>\n",
       "      <td>0.400000</td>\n",
       "      <td>0.000000</td>\n",
       "      <td>0.000000</td>\n",
       "      <td>0.000000</td>\n",
       "    </tr>\n",
       "    <tr>\n",
       "      <th>50%</th>\n",
       "      <td>5.800000</td>\n",
       "      <td>3.000000</td>\n",
       "      <td>4.250000</td>\n",
       "      <td>1.300000</td>\n",
       "      <td>0.000000</td>\n",
       "      <td>0.000000</td>\n",
       "      <td>0.000000</td>\n",
       "    </tr>\n",
       "    <tr>\n",
       "      <th>75%</th>\n",
       "      <td>6.400000</td>\n",
       "      <td>3.400000</td>\n",
       "      <td>5.100000</td>\n",
       "      <td>1.800000</td>\n",
       "      <td>1.000000</td>\n",
       "      <td>1.000000</td>\n",
       "      <td>1.000000</td>\n",
       "    </tr>\n",
       "    <tr>\n",
       "      <th>max</th>\n",
       "      <td>7.900000</td>\n",
       "      <td>4.400000</td>\n",
       "      <td>6.900000</td>\n",
       "      <td>2.500000</td>\n",
       "      <td>1.000000</td>\n",
       "      <td>1.000000</td>\n",
       "      <td>1.000000</td>\n",
       "    </tr>\n",
       "  </tbody>\n",
       "</table>\n",
       "</div>"
      ],
      "text/plain": [
       "       sepal_length  sepal_width  petal_length  petal_width     setosa  \\\n",
       "count     84.000000    84.000000     84.000000    84.000000  84.000000   \n",
       "mean       5.870238     3.075000      3.771429     1.203571   0.333333   \n",
       "std        0.769099     0.448256      1.734940     0.752577   0.474236   \n",
       "min        4.400000     2.200000      1.200000     0.100000   0.000000   \n",
       "25%        5.375000     2.800000      1.600000     0.400000   0.000000   \n",
       "50%        5.800000     3.000000      4.250000     1.300000   0.000000   \n",
       "75%        6.400000     3.400000      5.100000     1.800000   1.000000   \n",
       "max        7.900000     4.400000      6.900000     2.500000   1.000000   \n",
       "\n",
       "       versicolor  virginica  \n",
       "count   84.000000  84.000000  \n",
       "mean     0.333333   0.333333  \n",
       "std      0.474236   0.474236  \n",
       "min      0.000000   0.000000  \n",
       "25%      0.000000   0.000000  \n",
       "50%      0.000000   0.000000  \n",
       "75%      1.000000   1.000000  \n",
       "max      1.000000   1.000000  "
      ]
     },
     "execution_count": 7,
     "metadata": {},
     "output_type": "execute_result"
    }
   ],
   "source": [
    "train.describe()"
   ]
  },
  {
   "cell_type": "code",
   "execution_count": 8,
   "id": "8942c30e",
   "metadata": {},
   "outputs": [],
   "source": [
    "# Creating a list of our numeric columns\n",
    "numcols = [col for col in train.columns if train[col].dtype != 'O']"
   ]
  },
  {
   "cell_type": "code",
   "execution_count": 11,
   "id": "77ef4739",
   "metadata": {},
   "outputs": [
    {
     "name": "stdout",
     "output_type": "stream",
     "text": [
      "sepal_length\n"
     ]
    },
    {
     "data": {
      "image/png": "[encoded data removed]",
      "text/plain": [
       "<Figure size 432x288 with 1 Axes>"
      ]
     },
     "metadata": {
      "needs_background": "light"
     },
     "output_type": "display_data"
    },
    {
     "name": "stdout",
     "output_type": "stream",
     "text": [
      "sepal_width\n"
     ]
    },
    {
     "data": {
      "image/png": "[encoded data removed]",
      "text/plain": [
       "<Figure size 432x288 with 1 Axes>"
      ]
     },
     "metadata": {
      "needs_background": "light"
     },
     "output_type": "display_data"
    },
    {
     "name": "stdout",
     "output_type": "stream",
     "text": [
      "petal_length\n"
     ]
    },
    {
     "data": {
      "image/png": "[encoded data removed]",
      "text/plain": [
       "<Figure size 432x288 with 1 Axes>"
      ]
     },
     "metadata": {
      "needs_background": "light"
     },
     "output_type": "display_data"
    },
    {
     "name": "stdout",
     "output_type": "stream",
     "text": [
      "petal_width\n"
     ]
    },
    {
     "data": {
      "image/png": "[encoded data removed]",
      "text/plain": [
       "<Figure size 432x288 with 1 Axes>"
      ]
     },
     "metadata": {
      "needs_background": "light"
     },
     "output_type": "display_data"
    },
    {
     "name": "stdout",
     "output_type": "stream",
     "text": [
      "setosa\n"
     ]
    },
    {
     "data": {
      "image/png": "[encoded data removed]",
      "text/plain": [
       "<Figure size 432x288 with 1 Axes>"
      ]
     },
     "metadata": {
      "needs_background": "light"
     },
     "output_type": "display_data"
    },
    {
     "name": "stdout",
     "output_type": "stream",
     "text": [
      "versicolor\n"
     ]
    },
    {
     "data": {
      "image/png": "[encoded data removed]",
      "text/plain": [
       "<Figure size 432x288 with 1 Axes>"
      ]
     },
     "metadata": {
      "needs_background": "light"
     },
     "output_type": "display_data"
    },
    {
     "name": "stdout",
     "output_type": "stream",
     "text": [
      "virginica\n"
     ]
    },
    {
     "data": {
      "image/png": "[encoded data removed]",
      "text/plain": [
       "<Figure size 432x288 with 1 Axes>"
      ]
     },
     "metadata": {
      "needs_background": "light"
     },
     "output_type": "display_data"
    }
   ],
   "source": [
    "# Histograms of numeric columns\n",
    "for col in numcols:\n",
    "    print(col)\n",
    "    train[col].hist()\n",
    "    plt.show()"
   ]
  },
  {
   "cell_type": "markdown",
   "id": "42f26d5d",
   "metadata": {},
   "source": [
    "Takeaway: \n",
    "Numeric column have varying distributions"
   ]
  },
  {
   "cell_type": "code",
   "execution_count": 17,
   "id": "b2ba2a95",
   "metadata": {},
   "outputs": [],
   "source": [
    "cat_vars = ['species']"
   ]
  },
  {
   "cell_type": "code",
   "execution_count": 18,
   "id": "7665bee2",
   "metadata": {},
   "outputs": [
    {
     "name": "stdout",
     "output_type": "stream",
     "text": [
      "species\n",
      "versicolor    28\n",
      "setosa        28\n",
      "virginica     28\n",
      "Name: species, dtype: int64\n",
      "versicolor    33.333333\n",
      "setosa        33.333333\n",
      "virginica     33.333333\n",
      "Name: species, dtype: float64\n"
     ]
    },
    {
     "data": {
      "image/png": "[encoded data removed]",
      "text/plain": [
       "<Figure size 432x288 with 1 Axes>"
      ]
     },
     "metadata": {
      "needs_background": "light"
     },
     "output_type": "display_data"
    }
   ],
   "source": [
    "for col in cat_vars:\n",
    "    print(col)\n",
    "    print(train[col].value_counts())\n",
    "    print(train[col].value_counts(normalize=True)*100)\n",
    "    sns.countplot(x=col, data=train)\n",
    "    plt.show()"
   ]
  },
  {
   "cell_type": "code",
   "execution_count": null,
   "id": "2efd093d",
   "metadata": {},
   "outputs": [],
   "source": [
    "Takeaway: Categorical column(species is even distributed) due to training split with 28 of each species."
   ]
  },
  {
   "cell_type": "markdown",
   "id": "648d3df2",
   "metadata": {},
   "source": [
    "Univariate Stats\n",
    "\n",
    "For each measurement type (quantitative variable): create a histogram, boxplot, & compute descriptive statistics (using .describe()).\n",
    "\n",
    "For each species (categorical variable): create a frequency table and a bar plot of those frequencies.\n",
    "\n",
    "Document takeaways & any actions.\n",
    "\n"
   ]
  },
  {
   "cell_type": "markdown",
   "id": "94e1ebb6",
   "metadata": {},
   "source": [
    "Takeaways-not much "
   ]
  },
  {
   "cell_type": "markdown",
   "id": "b696c250",
   "metadata": {},
   "source": [
    "Bivariate Stats\n",
    "\n",
    "Visualize each measurement type (y-axis) with the species variable (x-axis) using barplots, adding a horizontal line showing the overall mean of the metric (y-axis).\n",
    "\n",
    "For each measurement type, compute the descriptive statistics for each species.\n",
    "\n",
    "For virginica & versicolor: Compare the mean petal_width using the Mann-Whitney test (scipy.stats.mannwhitneyu) to see if there is a significant difference between the two groups. Do the same for the other measurement types.\n",
    "\n",
    "Document takeaways & any actions.\n",
    "\n"
   ]
  },
  {
   "cell_type": "code",
   "execution_count": null,
   "id": "dc9ceea8",
   "metadata": {},
   "outputs": [],
   "source": []
  },
  {
   "cell_type": "code",
   "execution_count": 23,
   "id": "7d4a9a9d",
   "metadata": {},
   "outputs": [
    {
     "data": {
      "image/png": "[encoded data removed]",
      "text/plain": [
       "<Figure size 720x720 with 4 Axes>"
      ]
     },
     "metadata": {
      "needs_background": "light"
     },
     "output_type": "display_data"
    }
   ],
   "source": [
    "def graph(y):\n",
    "    sns.boxplot(x='species', y=y, data=train)\n",
    "  \n",
    "plt.figure(figsize=(10,10))\n",
    "      \n",
    "# Adding the subplot at the specified\n",
    "# grid position\n",
    "plt.subplot(221)\n",
    "graph('sepal_length')\n",
    "  \n",
    "plt.subplot(222)\n",
    "graph('sepal_width')\n",
    "  \n",
    "plt.subplot(223)\n",
    "graph('petal_length')\n",
    "  \n",
    "plt.subplot(224)\n",
    "graph('petal_width')\n",
    "  \n",
    "plt.show()"
   ]
  },
  {
   "cell_type": "code",
   "execution_count": null,
   "id": "ba49a28d",
   "metadata": {},
   "outputs": [],
   "source": []
  },
  {
   "cell_type": "code",
   "execution_count": null,
   "id": "69da941a",
   "metadata": {},
   "outputs": [],
   "source": []
  },
  {
   "cell_type": "code",
   "execution_count": null,
   "id": "4d714c25",
   "metadata": {},
   "outputs": [],
   "source": []
  },
  {
   "cell_type": "code",
   "execution_count": null,
   "id": "d1fe2192",
   "metadata": {},
   "outputs": [],
   "source": []
  },
  {
   "cell_type": "code",
   "execution_count": null,
   "id": "be6c434e",
   "metadata": {},
   "outputs": [],
   "source": []
  },
  {
   "cell_type": "code",
   "execution_count": null,
   "id": "679ee55e",
   "metadata": {},
   "outputs": [],
   "source": []
  },
  {
   "cell_type": "markdown",
   "id": "49233dd3",
   "metadata": {},
   "source": [
    "Multivariate Stats\n",
    "\n",
    "Visualize the interaction of each measurement type with the others using a pairplot (or scatter matrix or something similar) and add color to represent species.\n",
    "\n",
    "Visualize two numeric variables of the species. Hint: sns.relplot with hue or col\n",
    "\n",
    "Create a swarmplot using a melted dataframe of all your numeric variables. The x-axis should be the variable name, the y-axis the measure. Add another dimension using color to represent species. Document takeaways from this visualization.\n",
    "\n",
    "Ask a specific question of the data, such as: is the sepal area signficantly different in virginica compared to setosa? Answer the question through both a plot and using a mann-whitney or t-test. If you use a t-test, be sure assumptions are met (independence, normality, equal variance).\n",
    "\n",
    "Document takeaways and any actions.\n"
   ]
  },
  {
   "cell_type": "code",
   "execution_count": null,
   "id": "27e59a24",
   "metadata": {},
   "outputs": [],
   "source": []
  },
  {
   "cell_type": "code",
   "execution_count": null,
   "id": "256e5add",
   "metadata": {},
   "outputs": [],
   "source": []
  },
  {
   "cell_type": "code",
   "execution_count": null,
   "id": "4fd63191",
   "metadata": {},
   "outputs": [],
   "source": []
  },
  {
   "cell_type": "code",
   "execution_count": null,
   "id": "40133b57",
   "metadata": {},
   "outputs": [],
   "source": []
  },
  {
   "cell_type": "code",
   "execution_count": null,
   "id": "1f71e77d",
   "metadata": {},
   "outputs": [],
   "source": []
  },
  {
   "cell_type": "markdown",
   "id": "7d51ad82",
   "metadata": {},
   "source": [
    "\n",
    "Part II\n",
    "Explore your titanic dataset more completely.\n",
    "\n",
    "Determine drivers of the target variable\n",
    "Determine if certain columns should be dropped\n",
    "Determine if it would be valuable to bin some numeric columns\n",
    "Determine if it would be valuable to combine multiple columns into one.\n",
    "Does it make sense to combine any features?\n",
    "\n",
    "Do you find any surprises?\n",
    "\n",
    "Document any and all findings and takeaways in your notebook using markdown.\n",
    "\n"
   ]
  },
  {
   "cell_type": "markdown",
   "id": "ddc35541",
   "metadata": {},
   "source": [
    "Part III\n",
    "Explore your telco data to discover drivers of churn\n",
    "Determine if certain columns should be dropped\n",
    "Determine if it would be valuable to bin some numeric columns\n",
    "Determine if it would be valuable to combine multiple columns into one.\n",
    "What are your drivers of churn?\n",
    "\n",
    "Does it make sense to combine any features?\n",
    "\n",
    "Do you find any surprises?\n",
    "\n",
    "Document any and all findings and takeaways in your notebook using markdown."
   ]
  }
 ],
 "metadata": {
  "kernelspec": {
   "display_name": "Python 3 (ipykernel)",
   "language": "python",
   "name": "python3"
  },
  "language_info": {
   "codemirror_mode": {
    "name": "ipython",
    "version": 3
   },
   "file_extension": ".py",
   "mimetype": "text/x-python",
   "name": "python",
   "nbconvert_exporter": "python",
   "pygments_lexer": "ipython3",
   "version": "3.9.12"
  }
 },
 "nbformat": 4,
 "nbformat_minor": 5
}
