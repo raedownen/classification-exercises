{
 "cells": [
  {
   "cell_type": "markdown",
   "metadata": {},
   "source": [
    "# Exploratory Data Analysis\n",
    "\n",
    "Planning - Acquisition - Preparation - **Exploratory Analysis** - Modeling - Product Delivery\n",
    "\n",
    "In this lesson, we introduce exploratory data analysis, called EDA, which is the \"explore\" stage in the DS Pipeline.\n",
    "\n",
    "## Goals of EDA\n",
    "\n",
    "We explore the interactions of the attributes and target variable to help discover drivers of our target variable and redundant or interdependent attributes. \n",
    "\n",
    "1. Discover features that are driving the outcome (target). (Number 1 reason to explore)\n",
    "2. Learn the vast majority of our takeaways and interesting stories from the data. \n",
    "3. Discover if we need to drop features, if we need to handle missing values, or if there's value to combining features. \n",
    "\n",
    "## EDA Process\n",
    "\n",
    "1. Hypothesize: Form and document your initial hypotheses about how the predictors (independent variables, features, or attributes) interact with the target (y-value or dependent variable). You can do this in the form of questions in a natural language (as opposed to \"statistical\" language). \n",
    "\n",
    "2. Visualize: use visualization techniques to identify drivers. When a visualization needs to be followed up with a statistical test, do so.\n",
    "\n",
    "3. Test your hypotheses when visualization isn't immediately clear. Use the appropriate statistical tests (t-tests, correlation, chi-square)\n",
    "\n",
    "**General Recipe**\n",
    "\n",
    "1. Univariate Stats: descriptive stats, frequencies, histograms. This is often done during prep prior to splitting into train/validate/test, but if it is not, then it should be done first here. Why? Outliers. Running tests that assume normalcy. Scale of each variable. General \"getting to know\" your data. \n",
    "\n",
    "    - Univariate means a single variable, so we'll look at `.value_counts()` and histograms.\n",
    "    - Explore the target variable itself. What is the distribution of values?  \n",
    "    - Explore the categorical and qualitative variables. \n",
    "    - Explore the numeric variables. \n",
    "\n",
    "\n",
    "2. Bivariate Stats. Bivariate means two variables.\n",
    "\n",
    "    - Plot the interactions of each variable with the target. Document your takeaways.     \n",
    "    - Explore interation of independent variables using viz and/or hypothesis testing to address interdependence. \n",
    "\n",
    "\n",
    "3. Multivariate Stats (more than 2 variables): Ask additional questions of the data, such as how subgroups compare to each-other and to the overall population. Answer questions using visualizations and/or hypothesis testing. \n",
    "\n",
    "    - use color to represent a discrete variable and then choose a chart style based on the data types of other two variables. \n",
    "\n",
    "4. Statistical Tests: If the visualizations are not crystal clear, it's important to conduct hypothesis tests.\n",
    "\n",
    "    - With numeric to numeric, test for correlation with Pearson's R for linear and Spearman's R for non-linear relationships.\n",
    "\n",
    "    - For numeric to categorical, compare the means of two populations or a subgroup to the population using a [t-test](https://ds.codeup.com/stats/compare-means/), if your samples are normaly(ish) distributed but have different variances (as determined by calling `.var()` on each column/Series, [ANOVA](https://docs.scipy.org/doc/scipy/reference/generated/scipy.stats.f_oneway.html) to compare means from more than 2 groups, or a [Mann-Whitney u-test](https://docs.scipy.org/doc/scipy/reference/generated/scipy.stats.mannwhitneyu.html) if the data does not match the [assumptions of a t-test](https://www.investopedia.com/ask/answers/073115/what-assumptions-are-made-when-conducting-ttest.asp).\n",
    "\n",
    "    - With categorical to categorical variables, use $\\chi^2$, [chi-squared test](https://ds.codeup.com/stats/compare-group-membership/).\n",
    "\n",
    "\n",
    "**Standing Orders** for Exploration\n",
    "\n",
    "- **Document** your initial questions or assumptions. Write them down (in your README or notebook) so they are concrete and not in your head.\n",
    "\n",
    "- **Document** your takeaways after each visualization. Even if your takeaway is, \"there is nothing interesting between *var1* and *target*\". \n",
    "\n",
    "- **Document** your answer to each question. \n",
    "\n",
    "- When you run statistical tests to answer your questions, **Document** your null and alternative hypothesis, the test you run, the test results, and your conclusion. \n",
    "\n",
    "- **Document** your takeaways, in case that wasn't clear. It is a huge component of your final deliverable/analysis.\n",
    "\n",
    "- **Document** your action plan.  What are your next steps and/or new questions based on what you have learned? I recommend documenting, continuing through all of your questions, and then going back and taking action only after you have answered your initial questions. "
   ]
  },
  {
   "cell_type": "code",
   "execution_count": 8,
   "metadata": {},
   "outputs": [],
   "source": [
    "import pandas as pd\n",
    "import numpy as np\n",
    "import matplotlib.pyplot as plt\n",
    "import seaborn as sns\n",
    "import scipy.stats as stats\n",
    "from sklearn.model_selection import train_test_split\n",
    "\n",
    "import acquire\n",
    "import prepare"
   ]
  },
  {
   "cell_type": "markdown",
   "metadata": {},
   "source": [
    "## Aquire\n",
    "\n",
    "Acquire Titanic data from our mySQL database"
   ]
  },
  {
   "cell_type": "code",
   "execution_count": 9,
   "metadata": {},
   "outputs": [],
   "source": [
    "df = acquire.get_titanic_data()"
   ]
  },
  {
   "cell_type": "code",
   "execution_count": 10,
   "metadata": {},
   "outputs": [
    {
     "data": {
      "text/html": [
       "<div>\n",
       "<style scoped>\n",
       "    .dataframe tbody tr th:only-of-type {\n",
       "        vertical-align: middle;\n",
       "    }\n",
       "\n",
       "    .dataframe tbody tr th {\n",
       "        vertical-align: top;\n",
       "    }\n",
       "\n",
       "    .dataframe thead th {\n",
       "        text-align: right;\n",
       "    }\n",
       "</style>\n",
       "<table border=\"1\" class=\"dataframe\">\n",
       "  <thead>\n",
       "    <tr style=\"text-align: right;\">\n",
       "      <th></th>\n",
       "      <th>passenger_id</th>\n",
       "      <th>survived</th>\n",
       "      <th>pclass</th>\n",
       "      <th>sex</th>\n",
       "      <th>age</th>\n",
       "      <th>sibsp</th>\n",
       "      <th>parch</th>\n",
       "      <th>fare</th>\n",
       "      <th>embarked</th>\n",
       "      <th>class</th>\n",
       "      <th>deck</th>\n",
       "      <th>embark_town</th>\n",
       "      <th>alone</th>\n",
       "    </tr>\n",
       "  </thead>\n",
       "  <tbody>\n",
       "    <tr>\n",
       "      <th>0</th>\n",
       "      <td>0</td>\n",
       "      <td>0</td>\n",
       "      <td>3</td>\n",
       "      <td>male</td>\n",
       "      <td>22.0</td>\n",
       "      <td>1</td>\n",
       "      <td>0</td>\n",
       "      <td>7.2500</td>\n",
       "      <td>S</td>\n",
       "      <td>Third</td>\n",
       "      <td>NaN</td>\n",
       "      <td>Southampton</td>\n",
       "      <td>0</td>\n",
       "    </tr>\n",
       "    <tr>\n",
       "      <th>1</th>\n",
       "      <td>1</td>\n",
       "      <td>1</td>\n",
       "      <td>1</td>\n",
       "      <td>female</td>\n",
       "      <td>38.0</td>\n",
       "      <td>1</td>\n",
       "      <td>0</td>\n",
       "      <td>71.2833</td>\n",
       "      <td>C</td>\n",
       "      <td>First</td>\n",
       "      <td>C</td>\n",
       "      <td>Cherbourg</td>\n",
       "      <td>0</td>\n",
       "    </tr>\n",
       "    <tr>\n",
       "      <th>2</th>\n",
       "      <td>2</td>\n",
       "      <td>1</td>\n",
       "      <td>3</td>\n",
       "      <td>female</td>\n",
       "      <td>26.0</td>\n",
       "      <td>0</td>\n",
       "      <td>0</td>\n",
       "      <td>7.9250</td>\n",
       "      <td>S</td>\n",
       "      <td>Third</td>\n",
       "      <td>NaN</td>\n",
       "      <td>Southampton</td>\n",
       "      <td>1</td>\n",
       "    </tr>\n",
       "    <tr>\n",
       "      <th>3</th>\n",
       "      <td>3</td>\n",
       "      <td>1</td>\n",
       "      <td>1</td>\n",
       "      <td>female</td>\n",
       "      <td>35.0</td>\n",
       "      <td>1</td>\n",
       "      <td>0</td>\n",
       "      <td>53.1000</td>\n",
       "      <td>S</td>\n",
       "      <td>First</td>\n",
       "      <td>C</td>\n",
       "      <td>Southampton</td>\n",
       "      <td>0</td>\n",
       "    </tr>\n",
       "    <tr>\n",
       "      <th>4</th>\n",
       "      <td>4</td>\n",
       "      <td>0</td>\n",
       "      <td>3</td>\n",
       "      <td>male</td>\n",
       "      <td>35.0</td>\n",
       "      <td>0</td>\n",
       "      <td>0</td>\n",
       "      <td>8.0500</td>\n",
       "      <td>S</td>\n",
       "      <td>Third</td>\n",
       "      <td>NaN</td>\n",
       "      <td>Southampton</td>\n",
       "      <td>1</td>\n",
       "    </tr>\n",
       "  </tbody>\n",
       "</table>\n",
       "</div>"
      ],
      "text/plain": [
       "   passenger_id  survived  pclass     sex   age  sibsp  parch     fare  \\\n",
       "0             0         0       3    male  22.0      1      0   7.2500   \n",
       "1             1         1       1  female  38.0      1      0  71.2833   \n",
       "2             2         1       3  female  26.0      0      0   7.9250   \n",
       "3             3         1       1  female  35.0      1      0  53.1000   \n",
       "4             4         0       3    male  35.0      0      0   8.0500   \n",
       "\n",
       "  embarked  class deck  embark_town  alone  \n",
       "0        S  Third  NaN  Southampton      0  \n",
       "1        C  First    C    Cherbourg      0  \n",
       "2        S  Third  NaN  Southampton      1  \n",
       "3        S  First    C  Southampton      0  \n",
       "4        S  Third  NaN  Southampton      1  "
      ]
     },
     "execution_count": 10,
     "metadata": {},
     "output_type": "execute_result"
    }
   ],
   "source": [
    "# peek\n",
    "df.head()"
   ]
  },
  {
   "cell_type": "markdown",
   "metadata": {},
   "source": [
    "## Prepare\n",
    "\n",
    "Prepare the Titanic data. We apply the same steps before splitting so that we handle edge cases identically.\n",
    "\n",
    "- drop deck since most of the data is missing\n",
    "- drop rows where age or embarked is missing\n",
    "- drop passenger_id, since it adds no new information\n",
    "- drop class, as encoded values are in pclass\n",
    "- create dummy vars & drop sex, embark_town\n",
    "\n",
    "**Questions for 2nd draft** \n",
    "\n",
    "- Let's investigate and determine what are best options are for handling the missing ages"
   ]
  },
  {
   "cell_type": "code",
   "execution_count": 11,
   "metadata": {},
   "outputs": [],
   "source": [
    "train, validate, test = prepare.prep_titanic_data(df)"
   ]
  },
  {
   "cell_type": "code",
   "execution_count": 12,
   "metadata": {},
   "outputs": [
    {
     "data": {
      "text/html": [
       "<div>\n",
       "<style scoped>\n",
       "    .dataframe tbody tr th:only-of-type {\n",
       "        vertical-align: middle;\n",
       "    }\n",
       "\n",
       "    .dataframe tbody tr th {\n",
       "        vertical-align: top;\n",
       "    }\n",
       "\n",
       "    .dataframe thead th {\n",
       "        text-align: right;\n",
       "    }\n",
       "</style>\n",
       "<table border=\"1\" class=\"dataframe\">\n",
       "  <thead>\n",
       "    <tr style=\"text-align: right;\">\n",
       "      <th></th>\n",
       "      <th>survived</th>\n",
       "      <th>pclass</th>\n",
       "      <th>sex</th>\n",
       "      <th>age</th>\n",
       "      <th>sibsp</th>\n",
       "      <th>parch</th>\n",
       "      <th>fare</th>\n",
       "      <th>embark_town</th>\n",
       "      <th>alone</th>\n",
       "      <th>sex_male</th>\n",
       "      <th>embark_town_Queenstown</th>\n",
       "      <th>embark_town_Southampton</th>\n",
       "    </tr>\n",
       "  </thead>\n",
       "  <tbody>\n",
       "    <tr>\n",
       "      <th>583</th>\n",
       "      <td>0</td>\n",
       "      <td>1</td>\n",
       "      <td>male</td>\n",
       "      <td>36.0</td>\n",
       "      <td>0</td>\n",
       "      <td>0</td>\n",
       "      <td>40.125</td>\n",
       "      <td>Cherbourg</td>\n",
       "      <td>1</td>\n",
       "      <td>1</td>\n",
       "      <td>0</td>\n",
       "      <td>0</td>\n",
       "    </tr>\n",
       "    <tr>\n",
       "      <th>165</th>\n",
       "      <td>1</td>\n",
       "      <td>3</td>\n",
       "      <td>male</td>\n",
       "      <td>9.0</td>\n",
       "      <td>0</td>\n",
       "      <td>2</td>\n",
       "      <td>20.525</td>\n",
       "      <td>Southampton</td>\n",
       "      <td>0</td>\n",
       "      <td>1</td>\n",
       "      <td>0</td>\n",
       "      <td>1</td>\n",
       "    </tr>\n",
       "  </tbody>\n",
       "</table>\n",
       "</div>"
      ],
      "text/plain": [
       "     survived  pclass   sex   age  sibsp  parch    fare  embark_town  alone  \\\n",
       "583         0       1  male  36.0      0      0  40.125    Cherbourg      1   \n",
       "165         1       3  male   9.0      0      2  20.525  Southampton      0   \n",
       "\n",
       "     sex_male  embark_town_Queenstown  embark_town_Southampton  \n",
       "583         1                       0                        0  \n",
       "165         1                       0                        1  "
      ]
     },
     "execution_count": 12,
     "metadata": {},
     "output_type": "execute_result"
    }
   ],
   "source": [
    "# peek\n",
    "train.head(2)"
   ]
  },
  {
   "cell_type": "code",
   "execution_count": 13,
   "metadata": {},
   "outputs": [
    {
     "data": {
      "text/plain": [
       "((498, 12), (214, 12), (179, 12))"
      ]
     },
     "execution_count": 13,
     "metadata": {},
     "output_type": "execute_result"
    }
   ],
   "source": [
    "# shape\n",
    "train.shape, validate.shape, test.shape"
   ]
  },
  {
   "cell_type": "code",
   "execution_count": 14,
   "metadata": {},
   "outputs": [
    {
     "data": {
      "text/plain": [
       "(0.38353413654618473, 0.38317757009345793, 0.3854748603351955)"
      ]
     },
     "execution_count": 14,
     "metadata": {},
     "output_type": "execute_result"
    }
   ],
   "source": [
    "# Stratification means we'll get even proportions of the target variable in each data set\n",
    "train.survived.mean(), validate.survived.mean(), test.survived.mean()"
   ]
  },
  {
   "cell_type": "markdown",
   "metadata": {},
   "source": [
    "## Univariate Exploration: Explore Individual Variables\n",
    "\n",
    "### Goals\n",
    "\n",
    "- Identify Outliers, and whether those are anomalies or data errors. \n",
    "- Identify distributions of numeric data. Statistical tests often assume a type of distribution, such as a normal distribution. \n",
    "- Get a sense of scale for each variable. \n",
    "- Get a good general understanding of your data.  \n",
    "- Is your target balanced or imbalanced? \n",
    "- Are there variables with no entropy? \n",
    "\n",
    "### How\n",
    "\n",
    "#### Numeric Variables\n",
    "\n",
    "- `df.describe()`\n",
    "- `series.hist()` \n",
    "- `sns.boxplot()`\n",
    "\n",
    "#### Discrete Variables\n",
    "\n",
    "- `series.value_counts()`\n",
    "- `series.value_counts(normalize=True)`\n",
    "- `sns.countplot()`\n",
    "\n",
    "### Things to take away from this step\n",
    "\n",
    "- Document findings at the end of the section (and throughout)\n",
    "- Return to prep to further clean in ways discovered in this step\n",
    "- Document questions that come up as you begin to look at the data. "
   ]
  },
  {
   "cell_type": "code",
   "execution_count": 15,
   "metadata": {},
   "outputs": [
    {
     "name": "stdout",
     "output_type": "stream",
     "text": [
      "<class 'pandas.core.frame.DataFrame'>\n",
      "Int64Index: 498 entries, 583 to 744\n",
      "Data columns (total 12 columns):\n",
      " #   Column                   Non-Null Count  Dtype  \n",
      "---  ------                   --------------  -----  \n",
      " 0   survived                 498 non-null    int64  \n",
      " 1   pclass                   498 non-null    int64  \n",
      " 2   sex                      498 non-null    object \n",
      " 3   age                      498 non-null    float64\n",
      " 4   sibsp                    498 non-null    int64  \n",
      " 5   parch                    498 non-null    int64  \n",
      " 6   fare                     498 non-null    float64\n",
      " 7   embark_town              498 non-null    object \n",
      " 8   alone                    498 non-null    int64  \n",
      " 9   sex_male                 498 non-null    uint8  \n",
      " 10  embark_town_Queenstown   498 non-null    uint8  \n",
      " 11  embark_town_Southampton  498 non-null    uint8  \n",
      "dtypes: float64(2), int64(5), object(2), uint8(3)\n",
      "memory usage: 40.4+ KB\n"
     ]
    }
   ],
   "source": [
    "train.info()"
   ]
  },
  {
   "cell_type": "markdown",
   "metadata": {},
   "source": [
    "Fare is the only continuous variable. "
   ]
  },
  {
   "cell_type": "code",
   "execution_count": 16,
   "metadata": {},
   "outputs": [
    {
     "data": {
      "text/html": [
       "<div>\n",
       "<style scoped>\n",
       "    .dataframe tbody tr th:only-of-type {\n",
       "        vertical-align: middle;\n",
       "    }\n",
       "\n",
       "    .dataframe tbody tr th {\n",
       "        vertical-align: top;\n",
       "    }\n",
       "\n",
       "    .dataframe thead th {\n",
       "        text-align: right;\n",
       "    }\n",
       "</style>\n",
       "<table border=\"1\" class=\"dataframe\">\n",
       "  <thead>\n",
       "    <tr style=\"text-align: right;\">\n",
       "      <th></th>\n",
       "      <th>survived</th>\n",
       "      <th>pclass</th>\n",
       "      <th>sex</th>\n",
       "      <th>age</th>\n",
       "      <th>sibsp</th>\n",
       "      <th>parch</th>\n",
       "      <th>fare</th>\n",
       "      <th>embark_town</th>\n",
       "      <th>alone</th>\n",
       "      <th>sex_male</th>\n",
       "      <th>embark_town_Queenstown</th>\n",
       "      <th>embark_town_Southampton</th>\n",
       "    </tr>\n",
       "  </thead>\n",
       "  <tbody>\n",
       "    <tr>\n",
       "      <th>count</th>\n",
       "      <td>498.000000</td>\n",
       "      <td>498.000000</td>\n",
       "      <td>498</td>\n",
       "      <td>498.000000</td>\n",
       "      <td>498.000000</td>\n",
       "      <td>498.000000</td>\n",
       "      <td>498.000000</td>\n",
       "      <td>498</td>\n",
       "      <td>498.000000</td>\n",
       "      <td>498.000000</td>\n",
       "      <td>498.000000</td>\n",
       "      <td>498.000000</td>\n",
       "    </tr>\n",
       "    <tr>\n",
       "      <th>unique</th>\n",
       "      <td>NaN</td>\n",
       "      <td>NaN</td>\n",
       "      <td>2</td>\n",
       "      <td>NaN</td>\n",
       "      <td>NaN</td>\n",
       "      <td>NaN</td>\n",
       "      <td>NaN</td>\n",
       "      <td>3</td>\n",
       "      <td>NaN</td>\n",
       "      <td>NaN</td>\n",
       "      <td>NaN</td>\n",
       "      <td>NaN</td>\n",
       "    </tr>\n",
       "    <tr>\n",
       "      <th>top</th>\n",
       "      <td>NaN</td>\n",
       "      <td>NaN</td>\n",
       "      <td>male</td>\n",
       "      <td>NaN</td>\n",
       "      <td>NaN</td>\n",
       "      <td>NaN</td>\n",
       "      <td>NaN</td>\n",
       "      <td>Southampton</td>\n",
       "      <td>NaN</td>\n",
       "      <td>NaN</td>\n",
       "      <td>NaN</td>\n",
       "      <td>NaN</td>\n",
       "    </tr>\n",
       "    <tr>\n",
       "      <th>freq</th>\n",
       "      <td>NaN</td>\n",
       "      <td>NaN</td>\n",
       "      <td>323</td>\n",
       "      <td>NaN</td>\n",
       "      <td>NaN</td>\n",
       "      <td>NaN</td>\n",
       "      <td>NaN</td>\n",
       "      <td>355</td>\n",
       "      <td>NaN</td>\n",
       "      <td>NaN</td>\n",
       "      <td>NaN</td>\n",
       "      <td>NaN</td>\n",
       "    </tr>\n",
       "    <tr>\n",
       "      <th>mean</th>\n",
       "      <td>0.383534</td>\n",
       "      <td>2.305221</td>\n",
       "      <td>NaN</td>\n",
       "      <td>29.678105</td>\n",
       "      <td>0.495984</td>\n",
       "      <td>0.353414</td>\n",
       "      <td>31.130028</td>\n",
       "      <td>NaN</td>\n",
       "      <td>0.632530</td>\n",
       "      <td>0.648594</td>\n",
       "      <td>0.082329</td>\n",
       "      <td>0.712851</td>\n",
       "    </tr>\n",
       "    <tr>\n",
       "      <th>std</th>\n",
       "      <td>0.486735</td>\n",
       "      <td>0.826627</td>\n",
       "      <td>NaN</td>\n",
       "      <td>13.071190</td>\n",
       "      <td>1.131666</td>\n",
       "      <td>0.763608</td>\n",
       "      <td>47.162206</td>\n",
       "      <td>NaN</td>\n",
       "      <td>0.482601</td>\n",
       "      <td>0.477889</td>\n",
       "      <td>0.275142</td>\n",
       "      <td>0.452886</td>\n",
       "    </tr>\n",
       "    <tr>\n",
       "      <th>min</th>\n",
       "      <td>0.000000</td>\n",
       "      <td>1.000000</td>\n",
       "      <td>NaN</td>\n",
       "      <td>0.420000</td>\n",
       "      <td>0.000000</td>\n",
       "      <td>0.000000</td>\n",
       "      <td>0.000000</td>\n",
       "      <td>NaN</td>\n",
       "      <td>0.000000</td>\n",
       "      <td>0.000000</td>\n",
       "      <td>0.000000</td>\n",
       "      <td>0.000000</td>\n",
       "    </tr>\n",
       "    <tr>\n",
       "      <th>25%</th>\n",
       "      <td>0.000000</td>\n",
       "      <td>2.000000</td>\n",
       "      <td>NaN</td>\n",
       "      <td>22.000000</td>\n",
       "      <td>0.000000</td>\n",
       "      <td>0.000000</td>\n",
       "      <td>7.895800</td>\n",
       "      <td>NaN</td>\n",
       "      <td>0.000000</td>\n",
       "      <td>0.000000</td>\n",
       "      <td>0.000000</td>\n",
       "      <td>0.000000</td>\n",
       "    </tr>\n",
       "    <tr>\n",
       "      <th>50%</th>\n",
       "      <td>0.000000</td>\n",
       "      <td>3.000000</td>\n",
       "      <td>NaN</td>\n",
       "      <td>29.678105</td>\n",
       "      <td>0.000000</td>\n",
       "      <td>0.000000</td>\n",
       "      <td>13.500000</td>\n",
       "      <td>NaN</td>\n",
       "      <td>1.000000</td>\n",
       "      <td>1.000000</td>\n",
       "      <td>0.000000</td>\n",
       "      <td>1.000000</td>\n",
       "    </tr>\n",
       "    <tr>\n",
       "      <th>75%</th>\n",
       "      <td>1.000000</td>\n",
       "      <td>3.000000</td>\n",
       "      <td>NaN</td>\n",
       "      <td>35.000000</td>\n",
       "      <td>1.000000</td>\n",
       "      <td>0.000000</td>\n",
       "      <td>30.392700</td>\n",
       "      <td>NaN</td>\n",
       "      <td>1.000000</td>\n",
       "      <td>1.000000</td>\n",
       "      <td>0.000000</td>\n",
       "      <td>1.000000</td>\n",
       "    </tr>\n",
       "    <tr>\n",
       "      <th>max</th>\n",
       "      <td>1.000000</td>\n",
       "      <td>3.000000</td>\n",
       "      <td>NaN</td>\n",
       "      <td>80.000000</td>\n",
       "      <td>8.000000</td>\n",
       "      <td>5.000000</td>\n",
       "      <td>512.329200</td>\n",
       "      <td>NaN</td>\n",
       "      <td>1.000000</td>\n",
       "      <td>1.000000</td>\n",
       "      <td>1.000000</td>\n",
       "      <td>1.000000</td>\n",
       "    </tr>\n",
       "  </tbody>\n",
       "</table>\n",
       "</div>"
      ],
      "text/plain": [
       "          survived      pclass   sex         age       sibsp       parch  \\\n",
       "count   498.000000  498.000000   498  498.000000  498.000000  498.000000   \n",
       "unique         NaN         NaN     2         NaN         NaN         NaN   \n",
       "top            NaN         NaN  male         NaN         NaN         NaN   \n",
       "freq           NaN         NaN   323         NaN         NaN         NaN   \n",
       "mean      0.383534    2.305221   NaN   29.678105    0.495984    0.353414   \n",
       "std       0.486735    0.826627   NaN   13.071190    1.131666    0.763608   \n",
       "min       0.000000    1.000000   NaN    0.420000    0.000000    0.000000   \n",
       "25%       0.000000    2.000000   NaN   22.000000    0.000000    0.000000   \n",
       "50%       0.000000    3.000000   NaN   29.678105    0.000000    0.000000   \n",
       "75%       1.000000    3.000000   NaN   35.000000    1.000000    0.000000   \n",
       "max       1.000000    3.000000   NaN   80.000000    8.000000    5.000000   \n",
       "\n",
       "              fare  embark_town       alone    sex_male  \\\n",
       "count   498.000000          498  498.000000  498.000000   \n",
       "unique         NaN            3         NaN         NaN   \n",
       "top            NaN  Southampton         NaN         NaN   \n",
       "freq           NaN          355         NaN         NaN   \n",
       "mean     31.130028          NaN    0.632530    0.648594   \n",
       "std      47.162206          NaN    0.482601    0.477889   \n",
       "min       0.000000          NaN    0.000000    0.000000   \n",
       "25%       7.895800          NaN    0.000000    0.000000   \n",
       "50%      13.500000          NaN    1.000000    1.000000   \n",
       "75%      30.392700          NaN    1.000000    1.000000   \n",
       "max     512.329200          NaN    1.000000    1.000000   \n",
       "\n",
       "        embark_town_Queenstown  embark_town_Southampton  \n",
       "count               498.000000               498.000000  \n",
       "unique                     NaN                      NaN  \n",
       "top                        NaN                      NaN  \n",
       "freq                       NaN                      NaN  \n",
       "mean                  0.082329                 0.712851  \n",
       "std                   0.275142                 0.452886  \n",
       "min                   0.000000                 0.000000  \n",
       "25%                   0.000000                 0.000000  \n",
       "50%                   0.000000                 1.000000  \n",
       "75%                   0.000000                 1.000000  \n",
       "max                   1.000000                 1.000000  "
      ]
     },
     "execution_count": 16,
     "metadata": {},
     "output_type": "execute_result"
    }
   ],
   "source": [
    "train.describe(include='all')"
   ]
  },
  {
   "cell_type": "markdown",
   "metadata": {},
   "source": [
    "- most passengers are in 3rd class\n",
    "- 65% men\n",
    "- 71% embarked from southampton\n",
    "- 60% traveling alone\n",
    "- median fare 13.5, average fare 32\n",
    "- outlier in fare of 512"
   ]
  },
  {
   "cell_type": "code",
   "execution_count": 17,
   "metadata": {},
   "outputs": [],
   "source": [
    "num_vars = ['fare']\n",
    "cat_vars = ['survived', 'pclass', 'sex_male', 'sibsp', 'parch', 'alone',\n",
    "            'embark_town_Queenstown', 'embark_town_Southampton'\n",
    "           ]"
   ]
  },
  {
   "cell_type": "markdown",
   "metadata": {},
   "source": [
    "Explore Univariate Categorical Variables"
   ]
  },
  {
   "cell_type": "code",
   "execution_count": 18,
   "metadata": {},
   "outputs": [
    {
     "name": "stdout",
     "output_type": "stream",
     "text": [
      "survived\n",
      "0    307\n",
      "1    191\n",
      "Name: survived, dtype: int64\n",
      "0    61.646586\n",
      "1    38.353414\n",
      "Name: survived, dtype: float64\n"
     ]
    },
    {
     "data": {
      "image/png": "[encoded data removed]",
      "text/plain": [
       "<Figure size 432x288 with 1 Axes>"
      ]
     },
     "metadata": {
      "needs_background": "light"
     },
     "output_type": "display_data"
    },
    {
     "name": "stdout",
     "output_type": "stream",
     "text": [
      "pclass\n",
      "3    269\n",
      "1    117\n",
      "2    112\n",
      "Name: pclass, dtype: int64\n",
      "3    54.016064\n",
      "1    23.493976\n",
      "2    22.489960\n",
      "Name: pclass, dtype: float64\n"
     ]
    },
    {
     "data": {
      "image/png": "[encoded data removed]",
      "text/plain": [
       "<Figure size 432x288 with 1 Axes>"
      ]
     },
     "metadata": {
      "needs_background": "light"
     },
     "output_type": "display_data"
    },
    {
     "name": "stdout",
     "output_type": "stream",
     "text": [
      "sex_male\n",
      "1    323\n",
      "0    175\n",
      "Name: sex_male, dtype: int64\n",
      "1    64.859438\n",
      "0    35.140562\n",
      "Name: sex_male, dtype: float64\n"
     ]
    },
    {
     "data": {
      "image/png": "[encoded data removed]",
      "text/plain": [
       "<Figure size 432x288 with 1 Axes>"
      ]
     },
     "metadata": {
      "needs_background": "light"
     },
     "output_type": "display_data"
    },
    {
     "name": "stdout",
     "output_type": "stream",
     "text": [
      "sibsp\n",
      "0    357\n",
      "1     96\n",
      "2     21\n",
      "3      9\n",
      "4      8\n",
      "8      5\n",
      "5      2\n",
      "Name: sibsp, dtype: int64\n",
      "0    71.686747\n",
      "1    19.277108\n",
      "2     4.216867\n",
      "3     1.807229\n",
      "4     1.606426\n",
      "8     1.004016\n",
      "5     0.401606\n",
      "Name: sibsp, dtype: float64\n"
     ]
    },
    {
     "data": {
      "image/png": "[encoded data removed]",
      "text/plain": [
       "<Figure size 432x288 with 1 Axes>"
      ]
     },
     "metadata": {
      "needs_background": "light"
     },
     "output_type": "display_data"
    },
    {
     "name": "stdout",
     "output_type": "stream",
     "text": [
      "parch\n",
      "0    385\n",
      "1     65\n",
      "2     40\n",
      "3      4\n",
      "5      3\n",
      "4      1\n",
      "Name: parch, dtype: int64\n",
      "0    77.309237\n",
      "1    13.052209\n",
      "2     8.032129\n",
      "3     0.803213\n",
      "5     0.602410\n",
      "4     0.200803\n",
      "Name: parch, dtype: float64\n"
     ]
    },
    {
     "data": {
      "image/png": "[encoded data removed]",
      "text/plain": [
       "<Figure size 432x288 with 1 Axes>"
      ]
     },
     "metadata": {
      "needs_background": "light"
     },
     "output_type": "display_data"
    },
    {
     "name": "stdout",
     "output_type": "stream",
     "text": [
      "alone\n",
      "1    315\n",
      "0    183\n",
      "Name: alone, dtype: int64\n",
      "1    63.253012\n",
      "0    36.746988\n",
      "Name: alone, dtype: float64\n"
     ]
    },
    {
     "data": {
      "image/png": "[encoded data removed]",
      "text/plain": [
       "<Figure size 432x288 with 1 Axes>"
      ]
     },
     "metadata": {
      "needs_background": "light"
     },
     "output_type": "display_data"
    },
    {
     "name": "stdout",
     "output_type": "stream",
     "text": [
      "embark_town_Queenstown\n",
      "0    457\n",
      "1     41\n",
      "Name: embark_town_Queenstown, dtype: int64\n",
      "0    91.767068\n",
      "1     8.232932\n",
      "Name: embark_town_Queenstown, dtype: float64\n"
     ]
    },
    {
     "data": {
      "image/png": "[encoded data removed]",
      "text/plain": [
       "<Figure size 432x288 with 1 Axes>"
      ]
     },
     "metadata": {
      "needs_background": "light"
     },
     "output_type": "display_data"
    },
    {
     "name": "stdout",
     "output_type": "stream",
     "text": [
      "embark_town_Southampton\n",
      "1    355\n",
      "0    143\n",
      "Name: embark_town_Southampton, dtype: int64\n",
      "1    71.285141\n",
      "0    28.714859\n",
      "Name: embark_town_Southampton, dtype: float64\n"
     ]
    },
    {
     "data": {
      "image/png": "[encoded data removed]",
      "text/plain": [
       "<Figure size 432x288 with 1 Axes>"
      ]
     },
     "metadata": {
      "needs_background": "light"
     },
     "output_type": "display_data"
    }
   ],
   "source": [
    "for col in cat_vars:\n",
    "    print(col)\n",
    "    print(train[col].value_counts())\n",
    "    print(train[col].value_counts(normalize=True)*100)\n",
    "    sns.countplot(x=col, data=train)\n",
    "    plt.show()"
   ]
  },
  {
   "cell_type": "markdown",
   "metadata": {},
   "source": [
    "- 55% in 3rd class\n"
   ]
  },
  {
   "cell_type": "markdown",
   "metadata": {},
   "source": [
    "Explore Univariate Numeric Variables"
   ]
  },
  {
   "cell_type": "code",
   "execution_count": 19,
   "metadata": {},
   "outputs": [
    {
     "data": {
      "text/plain": [
       "<AxesSubplot:>"
      ]
     },
     "execution_count": 19,
     "metadata": {},
     "output_type": "execute_result"
    },
    {
     "data": {
      "image/png": "[encoded data removed]",
      "text/plain": [
       "<Figure size 432x288 with 1 Axes>"
      ]
     },
     "metadata": {
      "needs_background": "light"
     },
     "output_type": "display_data"
    }
   ],
   "source": [
    "train.fare.hist()"
   ]
  },
  {
   "cell_type": "code",
   "execution_count": 20,
   "metadata": {},
   "outputs": [
    {
     "data": {
      "text/plain": [
       "<AxesSubplot:xlabel='fare'>"
      ]
     },
     "execution_count": 20,
     "metadata": {},
     "output_type": "execute_result"
    },
    {
     "data": {
      "image/png": "[encoded data removed]",
      "text/plain": [
       "<Figure size 432x288 with 1 Axes>"
      ]
     },
     "metadata": {
      "needs_background": "light"
     },
     "output_type": "display_data"
    }
   ],
   "source": [
    "sns.boxplot(x='fare', data=train)"
   ]
  },
  {
   "cell_type": "markdown",
   "metadata": {},
   "source": [
    "- outlier in fare of 500+. do we remove? "
   ]
  },
  {
   "cell_type": "markdown",
   "metadata": {},
   "source": [
    "## Bivariate Exploration: Explore Interactions of 2 Variables\n",
    "\n",
    "### Goals\n",
    "\n",
    "- Analyze each feature with respect to the target variable and document takewaways. Always document your findings and takeaways, even if the takeaway is \"There's nothing here between x and y\". \n",
    "- Analyze features with respect to each other to identify those that may be interdependent and add no additional information. \n",
    "- Ask and answer specific questions. "
   ]
  },
  {
   "cell_type": "markdown",
   "metadata": {},
   "source": [
    "1. Were certain classes more/less likely to survive\n",
    "\n",
    "2. Were females more likely to survive?\n",
    "\n",
    "3. Were alone passengers more likely to survive?"
   ]
  },
  {
   "cell_type": "markdown",
   "metadata": {},
   "source": [
    "### How\n",
    "\n",
    "#### Numeric x Numeric Variables\n",
    "\n",
    "**Plots**\n",
    "\n",
    "- `sns.scatterplot()`\n",
    "- `sns.heatmap()`\n",
    "- `sns.lineplot()`\n",
    "- `sns.lmplot()`\n",
    "- `sns.pairplot()`\n",
    "\n",
    "**Stats**\n",
    "\n",
    "- Pearson's R: tests for **LINEAR** correlation  `scipy.stats.pearsonr()` \n",
    "- Spearman's Rho: tests for monotonic relationships (not necessarily linear, relationship between ordered sets):  `scipy.stats.spearmanr()` \n",
    "\n",
    "#### Discrete x Numeric Variables\n",
    "\n",
    "**Plots**\n",
    "\n",
    "- `sns.swarmplot()`\n",
    "- `sns.violinplot()`\n",
    "- `sns.barplot()`\n",
    "- `sns.stripplot()`\n",
    "- `sns.boxenplot()`\n",
    "\n",
    "**Stats**\n",
    "\n",
    "- Independent t-test: compare the mean of two groups, are they significantlly different? `scipy.stats.ttest_ind()`\n",
    "- ANOVA (one-way): compare the mean of more than two groups, are they significantlly different? `scipy.stats.f_oneway()`\n",
    "- Mann-Whitney: compare the mean of two groups, when the data is not necessarily normally distributed, i.e. the non-parametric version of the t-test: `scipy.stats.mannwhitneyu()`\n",
    "- Kruskal Wallis: compare the mean of more than two groups, when the data is not necessarily normally distributed, i.e. the non-parametric version of the ANOVA test `scipy.stats.kruskal()` \n",
    "\n",
    "#### Discrete x Discrete\n",
    "\n",
    "**Plots**\n",
    "\n",
    "- `sns.swarmplot()`\n",
    "- `sns.countplot()` adding hue for the second discrete variable. \n",
    "- If one categorical is a boolean, such as survived in the titanic case, we can set the binary target to the `y` axis and see proportions by using: `sns.barplot()`, `sns.boxplot()`\n",
    "\n",
    "**Stats**\n",
    "\n",
    "- Crosstab comparing values `pd.crosstab()`\n",
    "- Chi-Square test: is there a relationship between two categorical variables? `scipy.stats.chi2_contingency()`\n",
    "\n",
    "\n",
    "### Things to take away from this step\n",
    "\n",
    "- Document findings at the end of the section (and throughout)\n",
    "- Return to prep to further clean in ways discovered in this step\n",
    "- Document further questions to explore in multivariate exploration. \n",
    "- Document features you wish to move forward into modeling, and variables you wish to drop. "
   ]
  },
  {
   "cell_type": "markdown",
   "metadata": {},
   "source": [
    "1. Were certain classes more/less likely to survive\n",
    "\n",
    "    - compare 2 categorical variables\n",
    "    "
   ]
  },
  {
   "cell_type": "code",
   "execution_count": 21,
   "metadata": {},
   "outputs": [
    {
     "data": {
      "text/plain": [
       "<matplotlib.legend.Legend at 0x14e475820>"
      ]
     },
     "execution_count": 21,
     "metadata": {},
     "output_type": "execute_result"
    },
    {
     "data": {
      "image/png": "[encoded data removed]",
      "text/plain": [
       "<Figure size 432x288 with 1 Axes>"
      ]
     },
     "metadata": {
      "needs_background": "light"
     },
     "output_type": "display_data"
    }
   ],
   "source": [
    "plt.title('Third class appears less likely to survive')\n",
    "sns.barplot(x='pclass', y='survived', data=train)\n",
    "pop_survival_rate = train.survived.mean()\n",
    "plt.axhline(pop_survival_rate, label = 'population survival rate')\n",
    "plt.legend()\n"
   ]
  },
  {
   "cell_type": "markdown",
   "metadata": {},
   "source": [
    "- if we had deck data, we could explore whether this was related to the deck they were on. \n",
    "- let's test the relationships of class to survival: chi2 test"
   ]
  },
  {
   "cell_type": "code",
   "execution_count": 22,
   "metadata": {},
   "outputs": [
    {
     "name": "stdout",
     "output_type": "stream",
     "text": [
      "reject the null hypothesis that survival and class are independent\n",
      "there appears to be a relationship between survival and class\n"
     ]
    }
   ],
   "source": [
    "alpha = 0.05\n",
    "null_hyp = \"survival and class are independent\"\n",
    "alternative_hyp = \"there is a relationship between survival and class\"\n",
    "\n",
    "# set up a crosstab of observed values\n",
    "observed = pd.crosstab(train.survived, train.pclass)\n",
    "\n",
    "chi2, p, degf, expected = stats.chi2_contingency(observed)\n",
    "\n",
    "if p < alpha:\n",
    "    print(\"reject the null hypothesis that\", null_hyp)\n",
    "    print(\"there appears to be a relationship between survival and class\")\n",
    "else:\n",
    "    print(\"fail to reject the null hypothesis that\", null_hyp)"
   ]
  },
  {
   "cell_type": "code",
   "execution_count": 23,
   "metadata": {
    "scrolled": true
   },
   "outputs": [
    {
     "data": {
      "text/html": [
       "<div>\n",
       "<style scoped>\n",
       "    .dataframe tbody tr th:only-of-type {\n",
       "        vertical-align: middle;\n",
       "    }\n",
       "\n",
       "    .dataframe tbody tr th {\n",
       "        vertical-align: top;\n",
       "    }\n",
       "\n",
       "    .dataframe thead th {\n",
       "        text-align: right;\n",
       "    }\n",
       "</style>\n",
       "<table border=\"1\" class=\"dataframe\">\n",
       "  <thead>\n",
       "    <tr style=\"text-align: right;\">\n",
       "      <th>pclass</th>\n",
       "      <th>1</th>\n",
       "      <th>2</th>\n",
       "      <th>3</th>\n",
       "    </tr>\n",
       "    <tr>\n",
       "      <th>survived</th>\n",
       "      <th></th>\n",
       "      <th></th>\n",
       "      <th></th>\n",
       "    </tr>\n",
       "  </thead>\n",
       "  <tbody>\n",
       "    <tr>\n",
       "      <th>0</th>\n",
       "      <td>46</td>\n",
       "      <td>56</td>\n",
       "      <td>205</td>\n",
       "    </tr>\n",
       "    <tr>\n",
       "      <th>1</th>\n",
       "      <td>71</td>\n",
       "      <td>56</td>\n",
       "      <td>64</td>\n",
       "    </tr>\n",
       "  </tbody>\n",
       "</table>\n",
       "</div>"
      ],
      "text/plain": [
       "pclass     1   2    3\n",
       "survived             \n",
       "0         46  56  205\n",
       "1         71  56   64"
      ]
     },
     "execution_count": 23,
     "metadata": {},
     "output_type": "execute_result"
    }
   ],
   "source": [
    "observed"
   ]
  },
  {
   "cell_type": "code",
   "execution_count": 24,
   "metadata": {},
   "outputs": [
    {
     "data": {
      "text/plain": [
       "array([[ 72.12650602,  69.04417671, 165.82931727],\n",
       "       [ 44.87349398,  42.95582329, 103.17068273]])"
      ]
     },
     "execution_count": 24,
     "metadata": {},
     "output_type": "execute_result"
    }
   ],
   "source": [
    "expected"
   ]
  },
  {
   "cell_type": "markdown",
   "metadata": {},
   "source": [
    "2. Were females more likely to survive?\n",
    "\n",
    "- bar plot with survived on y-axis\n",
    "- chi2 test"
   ]
  },
  {
   "cell_type": "code",
   "execution_count": 25,
   "metadata": {},
   "outputs": [
    {
     "data": {
      "image/png": "[encoded data removed]",
      "text/plain": [
       "<Figure size 432x288 with 1 Axes>"
      ]
     },
     "metadata": {
      "needs_background": "light"
     },
     "output_type": "display_data"
    }
   ],
   "source": [
    "plt.title(\"Females are more likely to survive\")\n",
    "sns.barplot(x='sex_male', y='survived', data=train)\n",
    "pop_survival_rate = train.survived.mean()\n",
    "plt.axhline(pop_survival_rate, label='population survival rate')\n",
    "plt.legend()\n",
    "plt.show()"
   ]
  },
  {
   "cell_type": "code",
   "execution_count": 26,
   "metadata": {},
   "outputs": [
    {
     "name": "stdout",
     "output_type": "stream",
     "text": [
      "[[107.8815261 199.1184739]\n",
      " [ 67.1184739 123.8815261]]\n",
      "sex_male    0    1\n",
      "survived          \n",
      "0          42  265\n",
      "1         133   58\n",
      "1.6180521500929092e-36\n"
     ]
    }
   ],
   "source": [
    "alpha = 0.05\n",
    "null_hyp = \"Sex and surival are independent of each other\"\n",
    "alt_hyp = \"There is relationship between sex and survival\"\n",
    "\n",
    "observed = pd.crosstab(train.survived, train.sex_male)\n",
    "observed\n",
    "\n",
    "chi2, p, degf, expected =  stats.chi2_contingency(observed)\n",
    "print(expected)\n",
    "print(observed)\n",
    "print(p)"
   ]
  },
  {
   "cell_type": "code",
   "execution_count": 27,
   "metadata": {},
   "outputs": [],
   "source": [
    "def cat_vis(train, col):\n",
    "    plt.title('Relationship of survival rate and '+col)\n",
    "    sns.barplot(x=col, y='survived', data=train)\n",
    "    survival_rate = train.survived.mean()\n",
    "    plt.axhline(survival_rate, label='survival rate')\n",
    "    plt.legend()\n",
    "    plt.show()\n",
    "    \n",
    "    \n",
    "def cat_test(train, col):\n",
    "    alpha = 0.05\n",
    "    null_hyp = col+' and survival rate are independent'\n",
    "    alt_hyp = 'There is a relationship between survival rate and '+col\n",
    "    observed = pd.crosstab(train.survived, train[col])\n",
    "    chi2, p, degf, expected = stats.chi2_contingency(observed)\n",
    "    if p < alpha:\n",
    "        print('We reject the null hypothesis that', null_hyp)\n",
    "        print(alt_hyp)\n",
    "    else:\n",
    "        print('We fail to reject the null hypothesis that', null_hyp)\n",
    "        print('There appears to be no relationship between survival rate and '+col)\n",
    "\n",
    "def cat_analysis(train, col):\n",
    "    cat_vis(train, col)\n",
    "    cat_test(train, col)"
   ]
  },
  {
   "cell_type": "code",
   "execution_count": 28,
   "metadata": {},
   "outputs": [
    {
     "data": {
      "image/png": "[encoded data removed]",
      "text/plain": [
       "<Figure size 432x288 with 1 Axes>"
      ]
     },
     "metadata": {
      "needs_background": "light"
     },
     "output_type": "display_data"
    },
    {
     "name": "stdout",
     "output_type": "stream",
     "text": [
      "We reject the null hypothesis that survived and survival rate are independent\n",
      "There is a relationship between survival rate and survived\n"
     ]
    },
    {
     "data": {
      "image/png": "[encoded data removed]",
      "text/plain": [
       "<Figure size 432x288 with 1 Axes>"
      ]
     },
     "metadata": {
      "needs_background": "light"
     },
     "output_type": "display_data"
    },
    {
     "name": "stdout",
     "output_type": "stream",
     "text": [
      "We reject the null hypothesis that pclass and survival rate are independent\n",
      "There is a relationship between survival rate and pclass\n"
     ]
    },
    {
     "data": {
      "image/png": "[encoded data removed]",
      "text/plain": [
       "<Figure size 432x288 with 1 Axes>"
      ]
     },
     "metadata": {
      "needs_background": "light"
     },
     "output_type": "display_data"
    },
    {
     "name": "stdout",
     "output_type": "stream",
     "text": [
      "We reject the null hypothesis that sex_male and survival rate are independent\n",
      "There is a relationship between survival rate and sex_male\n"
     ]
    },
    {
     "data": {
      "image/png": "[encoded data removed]",
      "text/plain": [
       "<Figure size 432x288 with 1 Axes>"
      ]
     },
     "metadata": {
      "needs_background": "light"
     },
     "output_type": "display_data"
    },
    {
     "name": "stdout",
     "output_type": "stream",
     "text": [
      "We reject the null hypothesis that sibsp and survival rate are independent\n",
      "There is a relationship between survival rate and sibsp\n"
     ]
    },
    {
     "data": {
      "image/png": "[encoded data removed]",
      "text/plain": [
       "<Figure size 432x288 with 1 Axes>"
      ]
     },
     "metadata": {
      "needs_background": "light"
     },
     "output_type": "display_data"
    },
    {
     "name": "stdout",
     "output_type": "stream",
     "text": [
      "We reject the null hypothesis that parch and survival rate are independent\n",
      "There is a relationship between survival rate and parch\n"
     ]
    },
    {
     "data": {
      "image/png": "[encoded data removed]",
      "text/plain": [
       "<Figure size 432x288 with 1 Axes>"
      ]
     },
     "metadata": {
      "needs_background": "light"
     },
     "output_type": "display_data"
    },
    {
     "name": "stdout",
     "output_type": "stream",
     "text": [
      "We reject the null hypothesis that alone and survival rate are independent\n",
      "There is a relationship between survival rate and alone\n"
     ]
    },
    {
     "data": {
      "image/png": "[encoded data removed]",
      "text/plain": [
       "<Figure size 432x288 with 1 Axes>"
      ]
     },
     "metadata": {
      "needs_background": "light"
     },
     "output_type": "display_data"
    },
    {
     "name": "stdout",
     "output_type": "stream",
     "text": [
      "We fail to reject the null hypothesis that embark_town_Queenstown and survival rate are independent\n",
      "There appears to be no relationship between survival rate and embark_town_Queenstown\n"
     ]
    },
    {
     "data": {
      "image/png": "[encoded data removed]",
      "text/plain": [
       "<Figure size 432x288 with 1 Axes>"
      ]
     },
     "metadata": {
      "needs_background": "light"
     },
     "output_type": "display_data"
    },
    {
     "name": "stdout",
     "output_type": "stream",
     "text": [
      "We reject the null hypothesis that embark_town_Southampton and survival rate are independent\n",
      "There is a relationship between survival rate and embark_town_Southampton\n"
     ]
    }
   ],
   "source": [
    "# cat_analysis(train, 'sex_male')\n",
    "# cat_test(train, 'sex_male')\n",
    "\n",
    "for col in cat_vars:\n",
    "    cat_analysis(train, col)"
   ]
  },
  {
   "cell_type": "markdown",
   "metadata": {},
   "source": [
    "**Takeaways**\n",
    "\n",
    "- Embarking from a place other than southampton is more likely to survive. \n",
    "- Traveling alone is less likely to survive\n",
    "- It appears traveling with 3+ have lower survival rate\n",
    "- Females more likely to survive\n",
    "- third class less likely to survive"
   ]
  },
  {
   "cell_type": "code",
   "execution_count": null,
   "metadata": {},
   "outputs": [],
   "source": []
  },
  {
   "cell_type": "markdown",
   "metadata": {},
   "source": [
    "## Multivariate Exploration: Explore the Interactions of 3+ Variables\n",
    "\n",
    "### Goals\n",
    "\n",
    "- Ask and answer specific questions: We ask more specific and targeted questions of the data, such as how subgroups compare to each-other and to the overall population.\n",
    "- Identify relationships between independent variables (aka features, predictors) and dependent variable (aka target, outcome). \n",
    "- During multivariate analysis, we often add another dimension to our data, such as the target variable as color.\n",
    "\n",
    "### How\n",
    "\n",
    "**Plots**\n",
    "\n",
    "- Add color to your plots. For seaborn plots, the argument is `hue=<colname>`. For maplotlib plots, the argument is `c=<yourseries>.astype('category').cat.codes`\n",
    "- If you have multiple numeric columns, generating a [pairplot](https://seaborn.pydata.org/generated/seaborn.pairplot.html) with the target variable set to the `hue` argument might help. It may also be too noisy.\n",
    "- A [relplot](https://seaborn.pydata.org/generated/seaborn.relplot.html) of a numeric x, a numeric y, and a `hue` argument using a category z. If you discover a good set of numeric columns in the `pairplot`, then it would be valuable to create a visual for that pairing along with the target.\n",
    "- We can also use `hue` along with [seaborn catplot](https://seaborn.pydata.org/generated/seaborn.catplot.html)\n",
    "- We can make subgroups based on multiple categorical features and compare to other groups or the population\n",
    "\n",
    "**Stats**\n",
    "\n",
    "- Multivariate statistical tests exist, but are outside the scope of this course. \n",
    "\n",
    "- We can, however, create subgroups based on multiple categorical features and conduct hypothesis tests. Using the same methods used in the bivariate exploration, you will begin by controlling for the third variable. For example, select only customers who are senior citizens (\"control\" for senior citizen), and then test whether there is a significant difference in cost for those who churn and those who do not churn. \n",
    "\n",
    "\n",
    "### Things to take away from this step\n",
    "\n",
    "- Document takeaways, findings, conclusions at the end of the section and throughout. \n",
    "- Document initial recommendations. \n",
    "- Documnet new questions to ask of the data.\n",
    "- Finalize features to move forward into modeling. \n",
    "- Return to prep step as needed. "
   ]
  },
  {
   "cell_type": "markdown",
   "metadata": {},
   "source": [
    "**Questions to answer**\n"
   ]
  },
  {
   "cell_type": "markdown",
   "metadata": {},
   "source": [
    "_____________________\n",
    "\n"
   ]
  },
  {
   "cell_type": "code",
   "execution_count": 29,
   "metadata": {},
   "outputs": [
    {
     "data": {
      "text/plain": [
       "<AxesSubplot:xlabel='sex_male', ylabel='survived'>"
      ]
     },
     "execution_count": 29,
     "metadata": {},
     "output_type": "execute_result"
    },
    {
     "data": {
      "image/png": "[encoded data removed]",
      "text/plain": [
       "<Figure size 432x288 with 1 Axes>"
      ]
     },
     "metadata": {
      "needs_background": "light"
     },
     "output_type": "display_data"
    }
   ],
   "source": [
    "sns.barplot(x='sex_male', y='survived', hue='alone', data=train)"
   ]
  },
  {
   "cell_type": "code",
   "execution_count": 30,
   "metadata": {},
   "outputs": [
    {
     "data": {
      "text/plain": [
       "<AxesSubplot:xlabel='sex_male', ylabel='fare'>"
      ]
     },
     "execution_count": 30,
     "metadata": {},
     "output_type": "execute_result"
    },
    {
     "data": {
      "image/png": "[encoded data removed]",
      "text/plain": [
       "<Figure size 432x288 with 1 Axes>"
      ]
     },
     "metadata": {
      "needs_background": "light"
     },
     "output_type": "display_data"
    }
   ],
   "source": [
    "sns.scatterplot(x='sex_male', y='fare', hue='survived', style='pclass', \n",
    "                data=train)"
   ]
  },
  {
   "cell_type": "markdown",
   "metadata": {},
   "source": [
    "### Do women with other passengers have a higher survival rate than women traveling alone? "
   ]
  },
  {
   "cell_type": "code",
   "execution_count": 31,
   "metadata": {},
   "outputs": [
    {
     "name": "stdout",
     "output_type": "stream",
     "text": [
      "We fail to reject the null hypothesis that alone and survival rate are independent\n",
      "There appears to be no relationship between survival rate and alone\n"
     ]
    }
   ],
   "source": [
    "females = train[train.sex_male == 0]\n",
    "cat_test(females, 'alone')"
   ]
  },
  {
   "cell_type": "code",
   "execution_count": 32,
   "metadata": {},
   "outputs": [
    {
     "data": {
      "image/png": "[encoded data removed]",
      "text/plain": [
       "<Figure size 432x288 with 1 Axes>"
      ]
     },
     "metadata": {
      "needs_background": "light"
     },
     "output_type": "display_data"
    }
   ],
   "source": [
    "cat_vis(females, 'alone')"
   ]
  },
  {
   "cell_type": "markdown",
   "metadata": {},
   "source": [
    "There is no difference in survival rate between women traveling alone vs those traveling with others. "
   ]
  },
  {
   "cell_type": "markdown",
   "metadata": {},
   "source": [
    "**Get Creative**\n",
    "\n",
    "Ask additional, more specific and targeted questions of the data, such as how subgroups compare to each-other and to the overall population. We then answer these questions using visualizations and/or hypothesis testing.\n",
    "\n",
    "1. Is there a relationship between survival and parch for women travelers?\n",
    "2. Is there a relationship between survival and parch for male travelers? \n",
    "3. Is there a relationship between survival and sibsp for women travelers? \n",
    "4. Is there a relationship between survival and sibsp for male travelers?\n",
    "\n",
    "What other subgroups can you create and visualize?\n",
    "\n",
    "What variables have you not worked with yet?\n",
    "\n",
    "\n",
    "What other subgroups can you create and test?"
   ]
  },
  {
   "cell_type": "markdown",
   "metadata": {},
   "source": [
    "## Conclusion\n",
    "\n",
    "Here we pull all of our takeaways and actions together into one place we can reference as we move forward. \n",
    "\n",
    "\n",
    "\n",
    "**Work fast to an MVP understanding of your data**\n",
    "\n",
    "- Focus on features that give you the biggest bang for your buck. \n",
    "\n",
    "- If there's 30% of a population that's responsible for 99% of the sales, starting with breaking down that 30% population into different groups \n",
    "\n",
    "\n",
    "**When you have time for a second iteration**\n",
    "\n",
    "- Revisit some of the things you may have skipped earlier in order to get to an MVP.\n",
    "\n",
    "- For example, there were ~20% of rows with missing age. If you have time, check these out. Is there a set of the population that is similar such that we can impute an expected age value?\n",
    "\n",
    "- Explore creating your own features\n",
    "\n",
    "    - Turning numeric columns like `age` into a category with `is_child`, for example with a boolean.\n",
    "    - Where does it make logical sense to combine columns  "
   ]
  },
  {
   "cell_type": "markdown",
   "metadata": {},
   "source": [
    "## Exercises\n",
    "\n",
    "### Part 1\n",
    "\n",
    "Continue in your `classification_exercises.ipynb` notebook. As always, add, commit, and push your changes.\n",
    "\n",
    "**Section 1 - iris_db:** Using iris data from our mySQL server and the methods used in the lesson above: \n",
    "\n",
    "1. Acquire, prepare & split your data. \n",
    "\n",
    "1. Univariate Stats\n",
    "\n",
    "    - For each measurement type (quantitative variable): create a histogram, boxplot, & compute descriptive statistics (using .describe()). \n",
    "\n",
    "    - For each species (categorical variable): create a frequency table and a bar plot of those frequencies. \n",
    "\n",
    "    - Document takeaways & any actions. \n",
    "\n",
    "\n",
    "2. Bivariate Stats\n",
    "\n",
    "    - Visualize each measurement type (y-axis) with the species variable (x-axis) using barplots, adding a horizontal line showing the overall mean of the metric (y-axis). \n",
    "\n",
    "    - For each measurement type, compute the descriptive statistics for each species. \n",
    "\n",
    "    - For virginica & versicolor: Compare the mean petal_width using the Mann-Whitney test (scipy.stats.mannwhitneyu) to see if there is a significant difference between the two groups. Do the same for the other measurement types. \n",
    "\n",
    "    - Document takeaways & any actions. \n",
    "\n",
    "\n",
    "3. Multivariate Stats\n",
    "\n",
    "    - Visualize the interaction of each measurement type with the others using a pairplot (or scatter matrix or something similar) and add color to represent species. \n",
    "    \n",
    "    - Visualize two numeric variables by means of the species. Hint: `sns.relplot` with `hue` or `col`\n",
    "\n",
    "    - Create a swarmplot using a melted dataframe of all your numeric variables. The x-axis should be the variable name, the y-axis the measure. Add another dimension using color to represent species. Document takeaways from this visualization.\n",
    "\n",
    "    - Ask a specific question of the data, such as: is the sepal area signficantly different in virginica compared to setosa? Answer the question through both a plot and using a mann-whitney or t-test. If you use a t-test, be sure assumptions are met (independence, normality, equal variance). \n",
    "\n",
    "    - Document takeaways and any actions. \n",
    "\n"
   ]
  },
  {
   "cell_type": "markdown",
   "metadata": {},
   "source": [
    "### Part II\n",
    "\n",
    "Explore your `titanic` dataset more completely.\n",
    "\n",
    "- Determine drivers of the target variable\n",
    "- Determine if certain columns should be dropped\n",
    "- Determine if it would be valuable to bin some numeric columns\n",
    "- Determine if it would be valuable to combine multiple columns into one.\n",
    "\n",
    "Does it make sense to combine any features?\n",
    "\n",
    "Do you find any surprises?\n",
    "\n",
    "Document any and all findings and takeaways in your notebook using markdown."
   ]
  },
  {
   "cell_type": "markdown",
   "metadata": {},
   "source": [
    "### Part III\n",
    "\n",
    "- Explore your `telco` data to discover drivers of churn\n",
    "- Determine if certain columns should be dropped\n",
    "- Determine if it would be valuable to bin some numeric columns\n",
    "- Determine if it would be valuable to combine multiple columns into one.\n",
    "\n",
    "What are your drivers of churn?\n",
    "\n",
    "Does it make sense to combine any features?\n",
    "\n",
    "Do you find any surprises?\n",
    "\n",
    "Document any and all findings and takeaways in your notebook using markdown."
   ]
  }
 ],
 "metadata": {
  "kernelspec": {
   "display_name": "Python 3 (ipykernel)",
   "language": "python",
   "name": "python3"
  },
  "language_info": {
   "codemirror_mode": {
    "name": "ipython",
    "version": 3
   },
   "file_extension": ".py",
   "mimetype": "text/x-python",
   "name": "python",
   "nbconvert_exporter": "python",
   "pygments_lexer": "ipython3",
   "version": "3.9.12"
  },
  "toc": {
   "base_numbering": 1,
   "nav_menu": {},
   "number_sections": false,
   "sideBar": false,
   "skip_h1_title": false,
   "title_cell": "Table of Contents",
   "title_sidebar": "Contents",
   "toc_cell": false,
   "toc_position": {},
   "toc_section_display": false,
   "toc_window_display": false
  }
 },
 "nbformat": 4,
 "nbformat_minor": 4
}
