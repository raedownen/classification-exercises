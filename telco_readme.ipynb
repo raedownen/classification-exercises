{
 "cells": [
  {
   "cell_type": "markdown",
   "id": "0d96edb0",
   "metadata": {},
   "source": []
  },
  {
   "cell_type": "markdown",
   "id": "ed73f320",
   "metadata": {},
   "source": []
  },
  {
   "cell_type": "markdown",
   "id": "d0adcc44",
   "metadata": {},
   "source": []
  },
  {
   "cell_type": "markdown",
   "id": "211b912e",
   "metadata": {},
   "source": []
  },
  {
   "cell_type": "markdown",
   "id": "03b6f582",
   "metadata": {},
   "source": []
  },
  {
   "cell_type": "markdown",
   "id": "aca7ef24",
   "metadata": {},
   "source": []
  },
  {
   "cell_type": "markdown",
   "id": "38fa355c",
   "metadata": {},
   "source": []
  }
 ],
 "metadata": {
  "kernelspec": {
   "display_name": "Python 3 (ipykernel)",
   "language": "python",
   "name": "python3"
  },
  "language_info": {
   "codemirror_mode": {
    "name": "ipython",
    "version": 3
   },
   "file_extension": ".py",
   "mimetype": "text/x-python",
   "name": "python",
   "nbconvert_exporter": "python",
   "pygments_lexer": "ipython3",
   "version": "3.9.12"
  }
 },
 "nbformat": 4,
 "nbformat_minor": 5
}
